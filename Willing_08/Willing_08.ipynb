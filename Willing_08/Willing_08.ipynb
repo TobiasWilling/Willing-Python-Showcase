{
 "cells": [
  {
   "cell_type": "code",
   "execution_count": 4,
   "id": "f5914238",
   "metadata": {},
   "outputs": [
    {
     "name": "stdout",
     "output_type": "stream",
     "text": [
      "L:\n",
      " [[ 1.          0.          0.          0.        ]\n",
      " [-0.16666667  1.          0.          0.        ]\n",
      " [ 0.         -0.20224719  1.          0.        ]\n",
      " [ 0.11111111 -0.49812734 -0.38480922  1.        ]]\n",
      "U:\n",
      " [[  9.          -2.           1.          -0.5       ]\n",
      " [  0.          29.66666667 -11.83333333  -0.08333333]\n",
      " [  0.           0.          15.60674157   7.98314607]\n",
      " [  0.           0.           0.          -0.91396688]]\n",
      "P:\n",
      " [[1. 0. 0. 0.]\n",
      " [0. 1. 0. 0.]\n",
      " [0. 0. 0. 1.]\n",
      " [0. 0. 1. 0.]]\n"
     ]
    }
   ],
   "source": [
    "import numpy as np\n",
    "\n",
    "def LR(A):\n",
    "    n = A.shape[0]\n",
    "    L = np.zeros_like(A)\n",
    "    U = A.copy()\n",
    "    P = np.eye(n)\n",
    "    \n",
    "    for i in range(n):\n",
    "        # Pivotisierung (Zeilenvertauschung)\n",
    "        max_row = np.argmax(abs(U[i:, i])) + i\n",
    "        if i != max_row:\n",
    "            U[[i, max_row], :] = U[[max_row, i], :]\n",
    "            P[[i, max_row], :] = P[[max_row, i], :]\n",
    "            if i > 0:\n",
    "                L[[i, max_row], :i] = L[[max_row, i], :i]\n",
    "        \n",
    "        # Berechnung von L und U\n",
    "        for j in range(i+1, n):\n",
    "            L[j, i] = U[j, i] / U[i, i]\n",
    "            U[j, :] -= L[j, i] * U[i, :]\n",
    "    \n",
    "    np.fill_diagonal(L, 1)\n",
    "    \n",
    "    return L, U, P\n",
    "\n",
    "# Beispiel zur Überprüfung\n",
    "A = np.array([\n",
    "    [9, -2, 1, -0.5],\n",
    "    [-1.5, 30, -12, 0],\n",
    "    [1, -15, 0, -4],\n",
    "    [0, -6, 18, 8]\n",
    "])\n",
    "\n",
    "L, U, P = LR(A)\n",
    "print(\"L:\\n\", L)\n",
    "print(\"U:\\n\", U)\n",
    "print(\"P:\\n\", P)\n",
    "\n"
   ]
  },
  {
   "cell_type": "code",
   "execution_count": 8,
   "id": "00b43225",
   "metadata": {},
   "outputs": [
    {
     "name": "stdout",
     "output_type": "stream",
     "text": [
      "Lösung x: [ 0.20559275  0.50571091  0.98857818 -2.34501772]\n"
     ]
    }
   ],
   "source": [
    "def solve_system(A, b):\n",
    "    L, U, P = LR(A)\n",
    "    n = A.shape[0]\n",
    "    \n",
    "    # Schritt 1: Ly = Pb lösen\n",
    "    Pb = np.dot(P, b)\n",
    "    y = np.zeros(n)\n",
    "    for i in range(n):\n",
    "        y[i] = Pb[i] - np.dot(L[i, :i], y[:i])\n",
    "    \n",
    "    # Schritt 2: Ux = y lösen\n",
    "    x = np.zeros(n)\n",
    "    for i in range(n-1, -1, -1):\n",
    "        x[i] = (y[i] - np.dot(U[i, i+1:], x[i+1:])) / U[i, i]\n",
    "    \n",
    "    return x\n",
    "\n",
    "# Gegebenes Gleichungssystem\n",
    "A = np.array([\n",
    "    [9, -2, 1, -0.5],\n",
    "    [-1.5, 30, -12, 0],\n",
    "    [1, -15, 0, -4],\n",
    "    [0, -6, 18, 8]\n",
    "])\n",
    "b = np.array([3, 3, 2, -4])\n",
    "\n",
    "# Lösung des Gleichungssystems\n",
    "x = solve_system(A, b)\n",
    "print(\"Lösung x:\", x)\n"
   ]
  },
  {
   "cell_type": "code",
   "execution_count": null,
   "id": "1a6a2539",
   "metadata": {},
   "outputs": [],
   "source": []
  }
 ],
 "metadata": {
  "kernelspec": {
   "display_name": "Python 3 (ipykernel)",
   "language": "python",
   "name": "python3"
  },
  "language_info": {
   "codemirror_mode": {
    "name": "ipython",
    "version": 3
   },
   "file_extension": ".py",
   "mimetype": "text/x-python",
   "name": "python",
   "nbconvert_exporter": "python",
   "pygments_lexer": "ipython3",
   "version": "3.11.7"
  }
 },
 "nbformat": 4,
 "nbformat_minor": 5
}
