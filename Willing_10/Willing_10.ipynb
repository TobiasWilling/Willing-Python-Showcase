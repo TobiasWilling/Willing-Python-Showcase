{
 "cells": [
  {
   "cell_type": "code",
   "execution_count": 7,
   "id": "17a1295d",
   "metadata": {},
   "outputs": [
    {
     "name": "stdout",
     "output_type": "stream",
     "text": [
      "Cholesky-Zerlegung L:\n",
      " [[2. 0. 0.]\n",
      " [4. 2. 0.]\n",
      " [4. 0. 2.]]\n",
      "Lösung x (Cholesky):\n",
      " [ 2.5  0.5 -0.5]\n",
      "Ax:\n",
      " [2.5 1.5 3.5 2.5]\n",
      "b:\n",
      " [3 1 3 3]\n",
      "Fehler (Ax - b):\n",
      " [-0.5  0.5  0.5 -0.5]\n"
     ]
    }
   ],
   "source": [
    "import numpy as np\n",
    "\n",
    "# Gegebene Matrizen und Vektoren\n",
    "A = np.array([[1, 1, 1],\n",
    "              [1, 1, 3],\n",
    "              [1, 3, 1],\n",
    "              [1, 3, 3]])\n",
    "b = np.array([3, 1, 3, 3])\n",
    "\n",
    "# Berechnung der Normalengleichung\n",
    "AtA = np.dot(A.T, A)\n",
    "Atb = np.dot(A.T, b)\n",
    "\n",
    "# Cholesky-Zerlegung\n",
    "L = np.linalg.cholesky(AtA)\n",
    "\n",
    "# Lösung des linearen Gleichungssystems\n",
    "y = np.linalg.solve(L, Atb)\n",
    "x_cholesky = np.linalg.solve(L.T, y)\n",
    "\n",
    "print(\"Cholesky-Zerlegung L:\\n\", L)\n",
    "print(\"Lösung x (Cholesky):\\n\", x_cholesky)\n",
    "\n",
    "# Überprüfung der Lösung\n",
    "Ax = np.dot(A, x_cholesky)\n",
    "print(\"Ax:\\n\", Ax)\n",
    "print(\"b:\\n\", b)\n",
    "print(\"Fehler (Ax - b):\\n\", Ax - b)\n"
   ]
  },
  {
   "cell_type": "code",
   "execution_count": 8,
   "id": "4dde94cd",
   "metadata": {},
   "outputs": [
    {
     "ename": "UFuncTypeError",
     "evalue": "Cannot cast ufunc 'subtract' output from dtype('float64') to dtype('int32') with casting rule 'same_kind'",
     "output_type": "error",
     "traceback": [
      "\u001b[1;31m---------------------------------------------------------------------------\u001b[0m",
      "\u001b[1;31mUFuncTypeError\u001b[0m                            Traceback (most recent call last)",
      "Cell \u001b[1;32mIn[8], line 31\u001b[0m\n\u001b[0;32m     28\u001b[0m     \u001b[38;5;28;01mreturn\u001b[39;00m Q\n\u001b[0;32m     30\u001b[0m \u001b[38;5;66;03m# QR-Zerlegung der Matrix A\u001b[39;00m\n\u001b[1;32m---> 31\u001b[0m V, R \u001b[38;5;241m=\u001b[39m householder_qr(A)\n\u001b[0;32m     33\u001b[0m \u001b[38;5;66;03m# Berechnung von Q\u001b[39;00m\n\u001b[0;32m     34\u001b[0m Q \u001b[38;5;241m=\u001b[39m form_Q(V)\n",
      "Cell \u001b[1;32mIn[8], line 14\u001b[0m, in \u001b[0;36mhouseholder_qr\u001b[1;34m(A)\u001b[0m\n\u001b[0;32m     12\u001b[0m     v_k \u001b[38;5;241m/\u001b[39m\u001b[38;5;241m=\u001b[39m np\u001b[38;5;241m.\u001b[39mlinalg\u001b[38;5;241m.\u001b[39mnorm(v_k)\n\u001b[0;32m     13\u001b[0m     V[k:m, k] \u001b[38;5;241m=\u001b[39m v_k\n\u001b[1;32m---> 14\u001b[0m     R[k:m, k:n] \u001b[38;5;241m-\u001b[39m\u001b[38;5;241m=\u001b[39m \u001b[38;5;241m2\u001b[39m \u001b[38;5;241m*\u001b[39m np\u001b[38;5;241m.\u001b[39mouter(v_k, np\u001b[38;5;241m.\u001b[39mdot(v_k, R[k:m, k:n]))\n\u001b[0;32m     16\u001b[0m \u001b[38;5;28;01mreturn\u001b[39;00m V, R\n",
      "\u001b[1;31mUFuncTypeError\u001b[0m: Cannot cast ufunc 'subtract' output from dtype('float64') to dtype('int32') with casting rule 'same_kind'"
     ]
    }
   ],
   "source": [
    "# Funktion zur QR-Zerlegung mit Householder-Transformation\n",
    "def householder_qr(A):\n",
    "    m, n = A.shape\n",
    "    R = A.copy()\n",
    "    V = np.zeros((m, n))\n",
    "\n",
    "    for k in range(n):\n",
    "        x = R[k:m, k]\n",
    "        e1 = np.zeros_like(x)\n",
    "        e1[0] = 1\n",
    "        v_k = np.sign(x[0]) * np.linalg.norm(x) * e1 + x\n",
    "        v_k /= np.linalg.norm(v_k)\n",
    "        V[k:m, k] = v_k\n",
    "        R[k:m, k:n] -= 2 * np.outer(v_k, np.dot(v_k, R[k:m, k:n]))\n",
    "    \n",
    "    return V, R\n",
    "\n",
    "def form_Q(V):\n",
    "    m, n = V.shape\n",
    "    Q = np.eye(m)\n",
    "    \n",
    "    for k in range(n-1, -1, -1):\n",
    "        v_k = V[k:m, k]\n",
    "        H_k = np.eye(m)\n",
    "        H_k[k:m, k:m] -= 2 * np.outer(v_k, v_k)\n",
    "        Q = np.dot(H_k, Q)\n",
    "    \n",
    "    return Q\n",
    "\n",
    "# QR-Zerlegung der Matrix A\n",
    "V, R = householder_qr(A)\n",
    "\n",
    "# Berechnung von Q\n",
    "Q = form_Q(V)\n",
    "\n",
    "# Lösung des linearen Ausgleichsproblems\n",
    "Q_T_b = np.dot(Q.T, b)\n",
    "x_qr = np.linalg.solve(R[:3, :3], Q_T_b[:3])\n",
    "\n",
    "print(\"V (Householder-Vektoren):\\n\", V)\n",
    "print(\"R (obere Dreiecksmatrix):\\n\", R)\n",
    "print(\"Q (orthogonale Matrix):\\n\", Q)\n",
    "print(\"Lösung x (QR):\\n\", x_qr)\n",
    "\n",
    "# Überprüfung der Lösung\n",
    "Ax = np.dot(A, x_qr)\n",
    "print(\"Ax:\\n\", Ax)\n",
    "print(\"b:\\n\", b)\n",
    "print(\"Fehler (Ax - b):\\n\", Ax - b)\n"
   ]
  },
  {
   "cell_type": "code",
   "execution_count": null,
   "id": "21ee4a6f",
   "metadata": {},
   "outputs": [],
   "source": []
  }
 ],
 "metadata": {
  "kernelspec": {
   "display_name": "Python 3 (ipykernel)",
   "language": "python",
   "name": "python3"
  },
  "language_info": {
   "codemirror_mode": {
    "name": "ipython",
    "version": 3
   },
   "file_extension": ".py",
   "mimetype": "text/x-python",
   "name": "python",
   "nbconvert_exporter": "python",
   "pygments_lexer": "ipython3",
   "version": "3.11.7"
  }
 },
 "nbformat": 4,
 "nbformat_minor": 5
}
